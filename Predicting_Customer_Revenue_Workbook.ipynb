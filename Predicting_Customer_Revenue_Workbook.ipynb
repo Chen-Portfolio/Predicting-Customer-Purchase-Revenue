{
  "nbformat": 4,
  "nbformat_minor": 0,
  "metadata": {
    "colab": {
      "name": "Predicting Customer Revenue Workbook.ipynb",
      "provenance": [],
      "collapsed_sections": [],
      "toc_visible": true,
      "authorship_tag": "ABX9TyNVzgCa4NQ0cIwv8v166ae/",
      "include_colab_link": true
    },
    "kernelspec": {
      "name": "python3",
      "display_name": "Python 3"
    },
    "language_info": {
      "name": "python"
    }
  },
  "cells": [
    {
      "cell_type": "markdown",
      "metadata": {
        "id": "view-in-github",
        "colab_type": "text"
      },
      "source": [
        "<a href=\"https://colab.research.google.com/github/Chen-Portfolio/Predicting-Customer-Purchase-Revenue/blob/main/Predicting_Customer_Revenue_Workbook.ipynb\" target=\"_parent\"><img src=\"https://colab.research.google.com/assets/colab-badge.svg\" alt=\"Open In Colab\"/></a>"
      ]
    },
    {
      "cell_type": "markdown",
      "metadata": {
        "id": "9RA2J-URaBnI"
      },
      "source": [
        "# Dataset Description"
      ]
    },
    {
      "cell_type": "markdown",
      "metadata": {
        "id": "-WlQSW_IaKPk"
      },
      "source": [
        "##### # Historical transaction data from 2010 to 2011. For each transaction, there is a customer identifier, purchase quantity, the data of purchase, unit price as well as some other informaiton about the purchased items."
      ]
    },
    {
      "cell_type": "markdown",
      "metadata": {
        "id": "IyTo6bYpbQch"
      },
      "source": [
        "# Import Libraries"
      ]
    },
    {
      "cell_type": "code",
      "metadata": {
        "id": "xVs71mVhZwc5"
      },
      "source": [
        "import pandas as pd\n",
        "import matplotlib.pyplot as plt\n",
        "import seaborn as sns\n",
        "\n",
        "from sklearn.model_selection import train_test_split\n",
        "from sklearn.linear_model import LinearRegression\n",
        "from scipy.stats.stats import pearsonr\n",
        "from sklearn.metrics import mean_squared_error\n",
        "from sklearn.metrics import mean_absolute_error\n",
        "from sklearn.linear_model import Lasso"
      ],
      "execution_count": 1,
      "outputs": []
    },
    {
      "cell_type": "markdown",
      "metadata": {
        "id": "l319YXj0bVy4"
      },
      "source": [
        "# Import Dataset"
      ]
    },
    {
      "cell_type": "code",
      "metadata": {
        "id": "p1XxO-subUZA"
      },
      "source": [
        "df = pd.read_csv('retail_transactions.csv')"
      ],
      "execution_count": 2,
      "outputs": []
    },
    {
      "cell_type": "markdown",
      "metadata": {
        "id": "qrj1eyrsbuB-"
      },
      "source": [
        "# Explore Data"
      ]
    },
    {
      "cell_type": "code",
      "metadata": {
        "colab": {
          "base_uri": "https://localhost:8080/",
          "height": 202
        },
        "id": "vJgBjtY7bdVn",
        "outputId": "735459c7-661d-4882-d9c5-9dc4b34279a9"
      },
      "source": [
        "df.head()"
      ],
      "execution_count": null,
      "outputs": [
        {
          "output_type": "execute_result",
          "data": {
            "text/html": [
              "<div>\n",
              "<style scoped>\n",
              "    .dataframe tbody tr th:only-of-type {\n",
              "        vertical-align: middle;\n",
              "    }\n",
              "\n",
              "    .dataframe tbody tr th {\n",
              "        vertical-align: top;\n",
              "    }\n",
              "\n",
              "    .dataframe thead th {\n",
              "        text-align: right;\n",
              "    }\n",
              "</style>\n",
              "<table border=\"1\" class=\"dataframe\">\n",
              "  <thead>\n",
              "    <tr style=\"text-align: right;\">\n",
              "      <th></th>\n",
              "      <th>InvoiceNo</th>\n",
              "      <th>StockCode</th>\n",
              "      <th>Description</th>\n",
              "      <th>Quantity</th>\n",
              "      <th>InvoiceDate</th>\n",
              "      <th>UnitPrice</th>\n",
              "      <th>CustomerID</th>\n",
              "      <th>Country</th>\n",
              "    </tr>\n",
              "  </thead>\n",
              "  <tbody>\n",
              "    <tr>\n",
              "      <th>0</th>\n",
              "      <td>546729</td>\n",
              "      <td>22775</td>\n",
              "      <td>PURPLE DRAWERKNOB ACRYLIC EDWARDIAN</td>\n",
              "      <td>12</td>\n",
              "      <td>2011-03-16 11:36:00</td>\n",
              "      <td>1.25</td>\n",
              "      <td>18231.0</td>\n",
              "      <td>United Kingdom</td>\n",
              "    </tr>\n",
              "    <tr>\n",
              "      <th>1</th>\n",
              "      <td>559898</td>\n",
              "      <td>21868</td>\n",
              "      <td>POTTING SHED TEA MUG</td>\n",
              "      <td>6</td>\n",
              "      <td>2011-07-13 12:18:00</td>\n",
              "      <td>1.25</td>\n",
              "      <td>16225.0</td>\n",
              "      <td>United Kingdom</td>\n",
              "    </tr>\n",
              "    <tr>\n",
              "      <th>2</th>\n",
              "      <td>548648</td>\n",
              "      <td>71459</td>\n",
              "      <td>HANGING JAM JAR T-LIGHT HOLDER</td>\n",
              "      <td>24</td>\n",
              "      <td>2011-04-01 13:20:00</td>\n",
              "      <td>0.85</td>\n",
              "      <td>12949.0</td>\n",
              "      <td>United Kingdom</td>\n",
              "    </tr>\n",
              "    <tr>\n",
              "      <th>3</th>\n",
              "      <td>540543</td>\n",
              "      <td>22173</td>\n",
              "      <td>METAL 4 HOOK HANGER FRENCH CHATEAU</td>\n",
              "      <td>4</td>\n",
              "      <td>2011-01-09 15:23:00</td>\n",
              "      <td>2.95</td>\n",
              "      <td>14395.0</td>\n",
              "      <td>United Kingdom</td>\n",
              "    </tr>\n",
              "    <tr>\n",
              "      <th>4</th>\n",
              "      <td>561390</td>\n",
              "      <td>20726</td>\n",
              "      <td>LUNCH BAG WOODLAND</td>\n",
              "      <td>10</td>\n",
              "      <td>2011-07-27 09:52:00</td>\n",
              "      <td>1.65</td>\n",
              "      <td>17068.0</td>\n",
              "      <td>United Kingdom</td>\n",
              "    </tr>\n",
              "  </tbody>\n",
              "</table>\n",
              "</div>"
            ],
            "text/plain": [
              "   InvoiceNo StockCode  ... CustomerID         Country\n",
              "0     546729     22775  ...    18231.0  United Kingdom\n",
              "1     559898     21868  ...    16225.0  United Kingdom\n",
              "2     548648     71459  ...    12949.0  United Kingdom\n",
              "3     540543     22173  ...    14395.0  United Kingdom\n",
              "4     561390     20726  ...    17068.0  United Kingdom\n",
              "\n",
              "[5 rows x 8 columns]"
            ]
          },
          "metadata": {
            "tags": []
          },
          "execution_count": 230
        }
      ]
    },
    {
      "cell_type": "code",
      "metadata": {
        "colab": {
          "base_uri": "https://localhost:8080/"
        },
        "id": "CUrfzMAKb2JV",
        "outputId": "989f1ff6-58ea-48b5-81d3-f8753eb28f10"
      },
      "source": [
        "df.dtypes"
      ],
      "execution_count": null,
      "outputs": [
        {
          "output_type": "execute_result",
          "data": {
            "text/plain": [
              "InvoiceNo        int64\n",
              "StockCode       object\n",
              "Description     object\n",
              "Quantity         int64\n",
              "InvoiceDate     object\n",
              "UnitPrice      float64\n",
              "CustomerID     float64\n",
              "Country         object\n",
              "dtype: object"
            ]
          },
          "metadata": {
            "tags": []
          },
          "execution_count": 176
        }
      ]
    },
    {
      "cell_type": "code",
      "metadata": {
        "colab": {
          "base_uri": "https://localhost:8080/"
        },
        "id": "-qK2Um2S9gaR",
        "outputId": "04517e22-7bd7-43d7-c6b0-300d2a880a90"
      },
      "source": [
        "df.info()"
      ],
      "execution_count": 6,
      "outputs": [
        {
          "output_type": "stream",
          "text": [
            "<class 'pandas.core.frame.DataFrame'>\n",
            "RangeIndex: 197320 entries, 0 to 197319\n",
            "Data columns (total 8 columns):\n",
            " #   Column       Non-Null Count   Dtype  \n",
            "---  ------       --------------   -----  \n",
            " 0   InvoiceNo    197320 non-null  int64  \n",
            " 1   StockCode    197320 non-null  object \n",
            " 2   Description  197320 non-null  object \n",
            " 3   Quantity     197319 non-null  float64\n",
            " 4   InvoiceDate  197319 non-null  object \n",
            " 5   UnitPrice    197319 non-null  float64\n",
            " 6   CustomerID   197319 non-null  float64\n",
            " 7   Country      197319 non-null  object \n",
            "dtypes: float64(3), int64(1), object(4)\n",
            "memory usage: 12.0+ MB\n"
          ],
          "name": "stdout"
        }
      ]
    },
    {
      "cell_type": "code",
      "metadata": {
        "colab": {
          "base_uri": "https://localhost:8080/"
        },
        "id": "Gu4zqX-59Nav",
        "outputId": "8d3eb07c-4a4a-40f3-c51a-b7549d159482"
      },
      "source": [
        "df['CustomerID'].nunique()"
      ],
      "execution_count": 8,
      "outputs": [
        {
          "output_type": "execute_result",
          "data": {
            "text/plain": [
              "4287"
            ]
          },
          "metadata": {
            "tags": []
          },
          "execution_count": 8
        }
      ]
    },
    {
      "cell_type": "markdown",
      "metadata": {
        "id": "5RgvIlyadER0"
      },
      "source": [
        "# Feature Engineering"
      ]
    },
    {
      "cell_type": "markdown",
      "metadata": {
        "id": "kS41mUqTh84O"
      },
      "source": [
        "## Convert 'InvoiceDate' Column to date format"
      ]
    },
    {
      "cell_type": "code",
      "metadata": {
        "id": "i82jZHgbcDZy"
      },
      "source": [
        " df['InvoiceDate'] = pd.to_datetime(df['InvoiceDate'])"
      ],
      "execution_count": null,
      "outputs": []
    },
    {
      "cell_type": "markdown",
      "metadata": {
        "id": "AHC85acPiG08"
      },
      "source": [
        "## Create a new column 'Revenue'"
      ]
    },
    {
      "cell_type": "code",
      "metadata": {
        "id": "p710F3-Dccmn"
      },
      "source": [
        "df['Revenue'] = df['UnitPrice'] * df['Quantity']"
      ],
      "execution_count": null,
      "outputs": []
    },
    {
      "cell_type": "markdown",
      "metadata": {
        "id": "_d9vEix6iRZA"
      },
      "source": [
        "## Groupby column 'InvoiceNo' and apply aggregation"
      ]
    },
    {
      "cell_type": "code",
      "metadata": {
        "id": "hDZovGuxdwSZ"
      },
      "source": [
        "operations = {'Revenue': 'sum', 'InvoiceDate':'first', 'CustomerID':'first', 'Country':'first'}\n",
        "df = df.groupby('InvoiceNo').agg(operations)"
      ],
      "execution_count": null,
      "outputs": []
    },
    {
      "cell_type": "code",
      "metadata": {
        "colab": {
          "base_uri": "https://localhost:8080/",
          "height": 233
        },
        "id": "OPv5bL7feYpd",
        "outputId": "e90fe357-f4fd-4cda-9702-9146b07327ef"
      },
      "source": [
        "df.head()"
      ],
      "execution_count": null,
      "outputs": [
        {
          "output_type": "execute_result",
          "data": {
            "text/html": [
              "<div>\n",
              "<style scoped>\n",
              "    .dataframe tbody tr th:only-of-type {\n",
              "        vertical-align: middle;\n",
              "    }\n",
              "\n",
              "    .dataframe tbody tr th {\n",
              "        vertical-align: top;\n",
              "    }\n",
              "\n",
              "    .dataframe thead th {\n",
              "        text-align: right;\n",
              "    }\n",
              "</style>\n",
              "<table border=\"1\" class=\"dataframe\">\n",
              "  <thead>\n",
              "    <tr style=\"text-align: right;\">\n",
              "      <th></th>\n",
              "      <th>Revenue</th>\n",
              "      <th>InvoiceDate</th>\n",
              "      <th>CustomerID</th>\n",
              "      <th>Country</th>\n",
              "    </tr>\n",
              "    <tr>\n",
              "      <th>InvoiceNo</th>\n",
              "      <th></th>\n",
              "      <th></th>\n",
              "      <th></th>\n",
              "      <th></th>\n",
              "    </tr>\n",
              "  </thead>\n",
              "  <tbody>\n",
              "    <tr>\n",
              "      <th>536365</th>\n",
              "      <td>139.12</td>\n",
              "      <td>2010-12-01 08:26:00</td>\n",
              "      <td>17850.0</td>\n",
              "      <td>United Kingdom</td>\n",
              "    </tr>\n",
              "    <tr>\n",
              "      <th>536366</th>\n",
              "      <td>22.20</td>\n",
              "      <td>2010-12-01 08:28:00</td>\n",
              "      <td>17850.0</td>\n",
              "      <td>United Kingdom</td>\n",
              "    </tr>\n",
              "    <tr>\n",
              "      <th>536367</th>\n",
              "      <td>278.73</td>\n",
              "      <td>2010-12-01 08:34:00</td>\n",
              "      <td>13047.0</td>\n",
              "      <td>United Kingdom</td>\n",
              "    </tr>\n",
              "    <tr>\n",
              "      <th>536368</th>\n",
              "      <td>70.05</td>\n",
              "      <td>2010-12-01 08:34:00</td>\n",
              "      <td>13047.0</td>\n",
              "      <td>United Kingdom</td>\n",
              "    </tr>\n",
              "    <tr>\n",
              "      <th>536369</th>\n",
              "      <td>17.85</td>\n",
              "      <td>2010-12-01 08:35:00</td>\n",
              "      <td>13047.0</td>\n",
              "      <td>United Kingdom</td>\n",
              "    </tr>\n",
              "  </tbody>\n",
              "</table>\n",
              "</div>"
            ],
            "text/plain": [
              "           Revenue         InvoiceDate  CustomerID         Country\n",
              "InvoiceNo                                                         \n",
              "536365      139.12 2010-12-01 08:26:00     17850.0  United Kingdom\n",
              "536366       22.20 2010-12-01 08:28:00     17850.0  United Kingdom\n",
              "536367      278.73 2010-12-01 08:34:00     13047.0  United Kingdom\n",
              "536368       70.05 2010-12-01 08:34:00     13047.0  United Kingdom\n",
              "536369       17.85 2010-12-01 08:35:00     13047.0  United Kingdom"
            ]
          },
          "metadata": {
            "tags": []
          },
          "execution_count": 234
        }
      ]
    },
    {
      "cell_type": "code",
      "metadata": {
        "colab": {
          "base_uri": "https://localhost:8080/",
          "height": 233
        },
        "id": "XQWeIvXIjqCT",
        "outputId": "97651fd1-7126-4c3c-90f1-9578ff8f9cc7"
      },
      "source": [
        "df.tail()"
      ],
      "execution_count": null,
      "outputs": [
        {
          "output_type": "execute_result",
          "data": {
            "text/html": [
              "<div>\n",
              "<style scoped>\n",
              "    .dataframe tbody tr th:only-of-type {\n",
              "        vertical-align: middle;\n",
              "    }\n",
              "\n",
              "    .dataframe tbody tr th {\n",
              "        vertical-align: top;\n",
              "    }\n",
              "\n",
              "    .dataframe thead th {\n",
              "        text-align: right;\n",
              "    }\n",
              "</style>\n",
              "<table border=\"1\" class=\"dataframe\">\n",
              "  <thead>\n",
              "    <tr style=\"text-align: right;\">\n",
              "      <th></th>\n",
              "      <th>Revenue</th>\n",
              "      <th>InvoiceDate</th>\n",
              "      <th>CustomerID</th>\n",
              "      <th>Country</th>\n",
              "    </tr>\n",
              "    <tr>\n",
              "      <th>InvoiceNo</th>\n",
              "      <th></th>\n",
              "      <th></th>\n",
              "      <th></th>\n",
              "      <th></th>\n",
              "    </tr>\n",
              "  </thead>\n",
              "  <tbody>\n",
              "    <tr>\n",
              "      <th>581583</th>\n",
              "      <td>124.60</td>\n",
              "      <td>2011-12-09 12:23:00</td>\n",
              "      <td>13777.0</td>\n",
              "      <td>United Kingdom</td>\n",
              "    </tr>\n",
              "    <tr>\n",
              "      <th>581584</th>\n",
              "      <td>140.64</td>\n",
              "      <td>2011-12-09 12:25:00</td>\n",
              "      <td>13777.0</td>\n",
              "      <td>United Kingdom</td>\n",
              "    </tr>\n",
              "    <tr>\n",
              "      <th>581585</th>\n",
              "      <td>329.05</td>\n",
              "      <td>2011-12-09 12:31:00</td>\n",
              "      <td>15804.0</td>\n",
              "      <td>United Kingdom</td>\n",
              "    </tr>\n",
              "    <tr>\n",
              "      <th>581586</th>\n",
              "      <td>339.20</td>\n",
              "      <td>2011-12-09 12:49:00</td>\n",
              "      <td>13113.0</td>\n",
              "      <td>United Kingdom</td>\n",
              "    </tr>\n",
              "    <tr>\n",
              "      <th>581587</th>\n",
              "      <td>249.45</td>\n",
              "      <td>2011-12-09 12:50:00</td>\n",
              "      <td>12680.0</td>\n",
              "      <td>France</td>\n",
              "    </tr>\n",
              "  </tbody>\n",
              "</table>\n",
              "</div>"
            ],
            "text/plain": [
              "           Revenue         InvoiceDate  CustomerID         Country\n",
              "InvoiceNo                                                         \n",
              "581583      124.60 2011-12-09 12:23:00     13777.0  United Kingdom\n",
              "581584      140.64 2011-12-09 12:25:00     13777.0  United Kingdom\n",
              "581585      329.05 2011-12-09 12:31:00     15804.0  United Kingdom\n",
              "581586      339.20 2011-12-09 12:49:00     13113.0  United Kingdom\n",
              "581587      249.45 2011-12-09 12:50:00     12680.0          France"
            ]
          },
          "metadata": {
            "tags": []
          },
          "execution_count": 181
        }
      ]
    },
    {
      "cell_type": "markdown",
      "metadata": {
        "id": "ifp6XT35ivVJ"
      },
      "source": [
        "## Create a new column 'Year'"
      ]
    },
    {
      "cell_type": "code",
      "metadata": {
        "id": "72iYOzCCekgX"
      },
      "source": [
        "df['Year'] = df['InvoiceDate'].apply(lambda x: x.year)"
      ],
      "execution_count": null,
      "outputs": []
    },
    {
      "cell_type": "markdown",
      "metadata": {
        "id": "pKH6kaAFjs4j"
      },
      "source": [
        "## Create a new column 'Days_Since'"
      ]
    },
    {
      "cell_type": "code",
      "metadata": {
        "colab": {
          "base_uri": "https://localhost:8080/"
        },
        "id": "8VUPccIIjCqk",
        "outputId": "ca234d9a-4504-4278-c4e7-8eec09d32847"
      },
      "source": [
        "df['Days_Since'] = (pd.datetime(year=2010, month=12, day=31) - df['InvoiceDate']).apply(lambda x: x.days)"
      ],
      "execution_count": null,
      "outputs": [
        {
          "output_type": "stream",
          "text": [
            "/usr/local/lib/python3.7/dist-packages/ipykernel_launcher.py:1: FutureWarning: The pandas.datetime class is deprecated and will be removed from pandas in a future version. Import from datetime module instead.\n",
            "  \"\"\"Entry point for launching an IPython kernel.\n"
          ],
          "name": "stderr"
        }
      ]
    },
    {
      "cell_type": "code",
      "metadata": {
        "colab": {
          "base_uri": "https://localhost:8080/",
          "height": 233
        },
        "id": "xnBtzidZj-sF",
        "outputId": "bc1c32fa-0a38-445f-fa03-12a0254a4d07"
      },
      "source": [
        "df.head()"
      ],
      "execution_count": null,
      "outputs": [
        {
          "output_type": "execute_result",
          "data": {
            "text/html": [
              "<div>\n",
              "<style scoped>\n",
              "    .dataframe tbody tr th:only-of-type {\n",
              "        vertical-align: middle;\n",
              "    }\n",
              "\n",
              "    .dataframe tbody tr th {\n",
              "        vertical-align: top;\n",
              "    }\n",
              "\n",
              "    .dataframe thead th {\n",
              "        text-align: right;\n",
              "    }\n",
              "</style>\n",
              "<table border=\"1\" class=\"dataframe\">\n",
              "  <thead>\n",
              "    <tr style=\"text-align: right;\">\n",
              "      <th></th>\n",
              "      <th>Revenue</th>\n",
              "      <th>InvoiceDate</th>\n",
              "      <th>CustomerID</th>\n",
              "      <th>Country</th>\n",
              "      <th>Year</th>\n",
              "      <th>Days_Since</th>\n",
              "    </tr>\n",
              "    <tr>\n",
              "      <th>InvoiceNo</th>\n",
              "      <th></th>\n",
              "      <th></th>\n",
              "      <th></th>\n",
              "      <th></th>\n",
              "      <th></th>\n",
              "      <th></th>\n",
              "    </tr>\n",
              "  </thead>\n",
              "  <tbody>\n",
              "    <tr>\n",
              "      <th>536365</th>\n",
              "      <td>139.12</td>\n",
              "      <td>2010-12-01 08:26:00</td>\n",
              "      <td>17850.0</td>\n",
              "      <td>United Kingdom</td>\n",
              "      <td>2010</td>\n",
              "      <td>29</td>\n",
              "    </tr>\n",
              "    <tr>\n",
              "      <th>536366</th>\n",
              "      <td>22.20</td>\n",
              "      <td>2010-12-01 08:28:00</td>\n",
              "      <td>17850.0</td>\n",
              "      <td>United Kingdom</td>\n",
              "      <td>2010</td>\n",
              "      <td>29</td>\n",
              "    </tr>\n",
              "    <tr>\n",
              "      <th>536367</th>\n",
              "      <td>278.73</td>\n",
              "      <td>2010-12-01 08:34:00</td>\n",
              "      <td>13047.0</td>\n",
              "      <td>United Kingdom</td>\n",
              "      <td>2010</td>\n",
              "      <td>29</td>\n",
              "    </tr>\n",
              "    <tr>\n",
              "      <th>536368</th>\n",
              "      <td>70.05</td>\n",
              "      <td>2010-12-01 08:34:00</td>\n",
              "      <td>13047.0</td>\n",
              "      <td>United Kingdom</td>\n",
              "      <td>2010</td>\n",
              "      <td>29</td>\n",
              "    </tr>\n",
              "    <tr>\n",
              "      <th>536369</th>\n",
              "      <td>17.85</td>\n",
              "      <td>2010-12-01 08:35:00</td>\n",
              "      <td>13047.0</td>\n",
              "      <td>United Kingdom</td>\n",
              "      <td>2010</td>\n",
              "      <td>29</td>\n",
              "    </tr>\n",
              "  </tbody>\n",
              "</table>\n",
              "</div>"
            ],
            "text/plain": [
              "           Revenue         InvoiceDate  ...  Year Days_Since\n",
              "InvoiceNo                               ...                 \n",
              "536365      139.12 2010-12-01 08:26:00  ...  2010         29\n",
              "536366       22.20 2010-12-01 08:28:00  ...  2010         29\n",
              "536367      278.73 2010-12-01 08:34:00  ...  2010         29\n",
              "536368       70.05 2010-12-01 08:34:00  ...  2010         29\n",
              "536369       17.85 2010-12-01 08:35:00  ...  2010         29\n",
              "\n",
              "[5 rows x 6 columns]"
            ]
          },
          "metadata": {
            "tags": []
          },
          "execution_count": 237
        }
      ]
    },
    {
      "cell_type": "code",
      "metadata": {
        "colab": {
          "base_uri": "https://localhost:8080/",
          "height": 233
        },
        "id": "s4UolIC5lIwW",
        "outputId": "769ceab6-b025-46a4-fc07-f6a1904142a6"
      },
      "source": [
        "df.tail()"
      ],
      "execution_count": null,
      "outputs": [
        {
          "output_type": "execute_result",
          "data": {
            "text/html": [
              "<div>\n",
              "<style scoped>\n",
              "    .dataframe tbody tr th:only-of-type {\n",
              "        vertical-align: middle;\n",
              "    }\n",
              "\n",
              "    .dataframe tbody tr th {\n",
              "        vertical-align: top;\n",
              "    }\n",
              "\n",
              "    .dataframe thead th {\n",
              "        text-align: right;\n",
              "    }\n",
              "</style>\n",
              "<table border=\"1\" class=\"dataframe\">\n",
              "  <thead>\n",
              "    <tr style=\"text-align: right;\">\n",
              "      <th></th>\n",
              "      <th>Revenue</th>\n",
              "      <th>InvoiceDate</th>\n",
              "      <th>CustomerID</th>\n",
              "      <th>Country</th>\n",
              "      <th>Year</th>\n",
              "      <th>Days_Since</th>\n",
              "    </tr>\n",
              "    <tr>\n",
              "      <th>InvoiceNo</th>\n",
              "      <th></th>\n",
              "      <th></th>\n",
              "      <th></th>\n",
              "      <th></th>\n",
              "      <th></th>\n",
              "      <th></th>\n",
              "    </tr>\n",
              "  </thead>\n",
              "  <tbody>\n",
              "    <tr>\n",
              "      <th>581583</th>\n",
              "      <td>124.60</td>\n",
              "      <td>2011-12-09 12:23:00</td>\n",
              "      <td>13777.0</td>\n",
              "      <td>United Kingdom</td>\n",
              "      <td>2011</td>\n",
              "      <td>-344</td>\n",
              "    </tr>\n",
              "    <tr>\n",
              "      <th>581584</th>\n",
              "      <td>140.64</td>\n",
              "      <td>2011-12-09 12:25:00</td>\n",
              "      <td>13777.0</td>\n",
              "      <td>United Kingdom</td>\n",
              "      <td>2011</td>\n",
              "      <td>-344</td>\n",
              "    </tr>\n",
              "    <tr>\n",
              "      <th>581585</th>\n",
              "      <td>329.05</td>\n",
              "      <td>2011-12-09 12:31:00</td>\n",
              "      <td>15804.0</td>\n",
              "      <td>United Kingdom</td>\n",
              "      <td>2011</td>\n",
              "      <td>-344</td>\n",
              "    </tr>\n",
              "    <tr>\n",
              "      <th>581586</th>\n",
              "      <td>339.20</td>\n",
              "      <td>2011-12-09 12:49:00</td>\n",
              "      <td>13113.0</td>\n",
              "      <td>United Kingdom</td>\n",
              "      <td>2011</td>\n",
              "      <td>-344</td>\n",
              "    </tr>\n",
              "    <tr>\n",
              "      <th>581587</th>\n",
              "      <td>249.45</td>\n",
              "      <td>2011-12-09 12:50:00</td>\n",
              "      <td>12680.0</td>\n",
              "      <td>France</td>\n",
              "      <td>2011</td>\n",
              "      <td>-344</td>\n",
              "    </tr>\n",
              "  </tbody>\n",
              "</table>\n",
              "</div>"
            ],
            "text/plain": [
              "           Revenue         InvoiceDate  ...  Year Days_Since\n",
              "InvoiceNo                               ...                 \n",
              "581583      124.60 2011-12-09 12:23:00  ...  2011       -344\n",
              "581584      140.64 2011-12-09 12:25:00  ...  2011       -344\n",
              "581585      329.05 2011-12-09 12:31:00  ...  2011       -344\n",
              "581586      339.20 2011-12-09 12:49:00  ...  2011       -344\n",
              "581587      249.45 2011-12-09 12:50:00  ...  2011       -344\n",
              "\n",
              "[5 rows x 6 columns]"
            ]
          },
          "metadata": {
            "tags": []
          },
          "execution_count": 185
        }
      ]
    },
    {
      "cell_type": "markdown",
      "metadata": {
        "id": "tlvp7qb8lk0U"
      },
      "source": [
        "## Groupby 'CustomerID' and Apply Aggregations"
      ]
    },
    {
      "cell_type": "code",
      "metadata": {
        "colab": {
          "base_uri": "https://localhost:8080/",
          "height": 418
        },
        "id": "4tYFSaIZlL5Q",
        "outputId": "18cd2a04-6fa0-4eae-9752-a1dc6b3a2c0c"
      },
      "source": [
        "operations = {'Revenue':'sum', 'Days_Since':['max', 'min', 'nunique']}\n",
        "X = df[df['Year'] == 2010].groupby('CustomerID').agg(operations)\n",
        "X.head(10)"
      ],
      "execution_count": null,
      "outputs": [
        {
          "output_type": "execute_result",
          "data": {
            "text/html": [
              "<div>\n",
              "<style scoped>\n",
              "    .dataframe tbody tr th:only-of-type {\n",
              "        vertical-align: middle;\n",
              "    }\n",
              "\n",
              "    .dataframe tbody tr th {\n",
              "        vertical-align: top;\n",
              "    }\n",
              "\n",
              "    .dataframe thead tr th {\n",
              "        text-align: left;\n",
              "    }\n",
              "\n",
              "    .dataframe thead tr:last-of-type th {\n",
              "        text-align: right;\n",
              "    }\n",
              "</style>\n",
              "<table border=\"1\" class=\"dataframe\">\n",
              "  <thead>\n",
              "    <tr>\n",
              "      <th></th>\n",
              "      <th>Revenue</th>\n",
              "      <th colspan=\"3\" halign=\"left\">Days_Since</th>\n",
              "    </tr>\n",
              "    <tr>\n",
              "      <th></th>\n",
              "      <th>sum</th>\n",
              "      <th>max</th>\n",
              "      <th>min</th>\n",
              "      <th>nunique</th>\n",
              "    </tr>\n",
              "    <tr>\n",
              "      <th>CustomerID</th>\n",
              "      <th></th>\n",
              "      <th></th>\n",
              "      <th></th>\n",
              "      <th></th>\n",
              "    </tr>\n",
              "  </thead>\n",
              "  <tbody>\n",
              "    <tr>\n",
              "      <th>12347.0</th>\n",
              "      <td>711.79</td>\n",
              "      <td>23</td>\n",
              "      <td>23</td>\n",
              "      <td>1</td>\n",
              "    </tr>\n",
              "    <tr>\n",
              "      <th>12348.0</th>\n",
              "      <td>892.80</td>\n",
              "      <td>14</td>\n",
              "      <td>14</td>\n",
              "      <td>1</td>\n",
              "    </tr>\n",
              "    <tr>\n",
              "      <th>12370.0</th>\n",
              "      <td>1868.02</td>\n",
              "      <td>16</td>\n",
              "      <td>13</td>\n",
              "      <td>2</td>\n",
              "    </tr>\n",
              "    <tr>\n",
              "      <th>12377.0</th>\n",
              "      <td>1001.52</td>\n",
              "      <td>10</td>\n",
              "      <td>10</td>\n",
              "      <td>1</td>\n",
              "    </tr>\n",
              "    <tr>\n",
              "      <th>12383.0</th>\n",
              "      <td>600.72</td>\n",
              "      <td>8</td>\n",
              "      <td>8</td>\n",
              "      <td>1</td>\n",
              "    </tr>\n",
              "    <tr>\n",
              "      <th>12386.0</th>\n",
              "      <td>258.90</td>\n",
              "      <td>22</td>\n",
              "      <td>22</td>\n",
              "      <td>1</td>\n",
              "    </tr>\n",
              "    <tr>\n",
              "      <th>12395.0</th>\n",
              "      <td>679.92</td>\n",
              "      <td>27</td>\n",
              "      <td>13</td>\n",
              "      <td>2</td>\n",
              "    </tr>\n",
              "    <tr>\n",
              "      <th>12417.0</th>\n",
              "      <td>291.34</td>\n",
              "      <td>13</td>\n",
              "      <td>13</td>\n",
              "      <td>1</td>\n",
              "    </tr>\n",
              "    <tr>\n",
              "      <th>12423.0</th>\n",
              "      <td>237.93</td>\n",
              "      <td>9</td>\n",
              "      <td>9</td>\n",
              "      <td>1</td>\n",
              "    </tr>\n",
              "    <tr>\n",
              "      <th>12427.0</th>\n",
              "      <td>303.50</td>\n",
              "      <td>27</td>\n",
              "      <td>27</td>\n",
              "      <td>1</td>\n",
              "    </tr>\n",
              "  </tbody>\n",
              "</table>\n",
              "</div>"
            ],
            "text/plain": [
              "            Revenue Days_Since            \n",
              "                sum        max min nunique\n",
              "CustomerID                                \n",
              "12347.0      711.79         23  23       1\n",
              "12348.0      892.80         14  14       1\n",
              "12370.0     1868.02         16  13       2\n",
              "12377.0     1001.52         10  10       1\n",
              "12383.0      600.72          8   8       1\n",
              "12386.0      258.90         22  22       1\n",
              "12395.0      679.92         27  13       2\n",
              "12417.0      291.34         13  13       1\n",
              "12423.0      237.93          9   9       1\n",
              "12427.0      303.50         27  27       1"
            ]
          },
          "metadata": {
            "tags": []
          },
          "execution_count": 239
        }
      ]
    },
    {
      "cell_type": "code",
      "metadata": {
        "colab": {
          "base_uri": "https://localhost:8080/"
        },
        "id": "4AIC5r9VmDoZ",
        "outputId": "ef95c597-e0b1-430f-8584-b61a10894d89"
      },
      "source": [
        "X.columns.values"
      ],
      "execution_count": null,
      "outputs": [
        {
          "output_type": "execute_result",
          "data": {
            "text/plain": [
              "array([('Revenue', 'sum'), ('Days_Since', 'max'), ('Days_Since', 'min'),\n",
              "       ('Days_Since', 'nunique')], dtype=object)"
            ]
          },
          "metadata": {
            "tags": []
          },
          "execution_count": 240
        }
      ]
    },
    {
      "cell_type": "code",
      "metadata": {
        "id": "9DvbYHIB3X1l"
      },
      "source": [
        "# strip() ： removes any leading and trailing characters (space is the default leading character to remove)\n",
        "X.columns = [' '.join(col).strip() for col in X.columns.values]"
      ],
      "execution_count": null,
      "outputs": []
    },
    {
      "cell_type": "code",
      "metadata": {
        "colab": {
          "base_uri": "https://localhost:8080/",
          "height": 233
        },
        "id": "dbwGsBsN4Yp9",
        "outputId": "891af325-2044-4eaf-add4-7bf8ffff6bfc"
      },
      "source": [
        "X.head()"
      ],
      "execution_count": null,
      "outputs": [
        {
          "output_type": "execute_result",
          "data": {
            "text/html": [
              "<div>\n",
              "<style scoped>\n",
              "    .dataframe tbody tr th:only-of-type {\n",
              "        vertical-align: middle;\n",
              "    }\n",
              "\n",
              "    .dataframe tbody tr th {\n",
              "        vertical-align: top;\n",
              "    }\n",
              "\n",
              "    .dataframe thead th {\n",
              "        text-align: right;\n",
              "    }\n",
              "</style>\n",
              "<table border=\"1\" class=\"dataframe\">\n",
              "  <thead>\n",
              "    <tr style=\"text-align: right;\">\n",
              "      <th></th>\n",
              "      <th>Revenue sum</th>\n",
              "      <th>Days_Since max</th>\n",
              "      <th>Days_Since min</th>\n",
              "      <th>Days_Since nunique</th>\n",
              "    </tr>\n",
              "    <tr>\n",
              "      <th>CustomerID</th>\n",
              "      <th></th>\n",
              "      <th></th>\n",
              "      <th></th>\n",
              "      <th></th>\n",
              "    </tr>\n",
              "  </thead>\n",
              "  <tbody>\n",
              "    <tr>\n",
              "      <th>12347.0</th>\n",
              "      <td>711.79</td>\n",
              "      <td>23</td>\n",
              "      <td>23</td>\n",
              "      <td>1</td>\n",
              "    </tr>\n",
              "    <tr>\n",
              "      <th>12348.0</th>\n",
              "      <td>892.80</td>\n",
              "      <td>14</td>\n",
              "      <td>14</td>\n",
              "      <td>1</td>\n",
              "    </tr>\n",
              "    <tr>\n",
              "      <th>12370.0</th>\n",
              "      <td>1868.02</td>\n",
              "      <td>16</td>\n",
              "      <td>13</td>\n",
              "      <td>2</td>\n",
              "    </tr>\n",
              "    <tr>\n",
              "      <th>12377.0</th>\n",
              "      <td>1001.52</td>\n",
              "      <td>10</td>\n",
              "      <td>10</td>\n",
              "      <td>1</td>\n",
              "    </tr>\n",
              "    <tr>\n",
              "      <th>12383.0</th>\n",
              "      <td>600.72</td>\n",
              "      <td>8</td>\n",
              "      <td>8</td>\n",
              "      <td>1</td>\n",
              "    </tr>\n",
              "  </tbody>\n",
              "</table>\n",
              "</div>"
            ],
            "text/plain": [
              "            Revenue sum  Days_Since max  Days_Since min  Days_Since nunique\n",
              "CustomerID                                                                 \n",
              "12347.0          711.79              23              23                   1\n",
              "12348.0          892.80              14              14                   1\n",
              "12370.0         1868.02              16              13                   2\n",
              "12377.0         1001.52              10              10                   1\n",
              "12383.0          600.72               8               8                   1"
            ]
          },
          "metadata": {
            "tags": []
          },
          "execution_count": 242
        }
      ]
    },
    {
      "cell_type": "markdown",
      "metadata": {
        "id": "yXjIfk5q5cvZ"
      },
      "source": [
        "## Create a new column 'Avg_Order_Cost'"
      ]
    },
    {
      "cell_type": "code",
      "metadata": {
        "id": "IujaVCMk4g2_"
      },
      "source": [
        "# Actually it's the avg. spent per day not per order, but assuming that if two oders putting the same day, we can treat them as part of the same order \n",
        "X['Avg_Order_Cost'] = X['Revenue sum'] / X['Days_Since nunique']"
      ],
      "execution_count": null,
      "outputs": []
    },
    {
      "cell_type": "markdown",
      "metadata": {
        "id": "CZPJ_yo_67lk"
      },
      "source": [
        "# Identify Independent and Dependent Variables"
      ]
    },
    {
      "cell_type": "code",
      "metadata": {
        "colab": {
          "base_uri": "https://localhost:8080/",
          "height": 233
        },
        "id": "zdRLM_4h60Ej",
        "outputId": "fb166e1a-dc48-4408-b6dc-1bf02a926043"
      },
      "source": [
        "# independent variable\n",
        "X.head()"
      ],
      "execution_count": null,
      "outputs": [
        {
          "output_type": "execute_result",
          "data": {
            "text/html": [
              "<div>\n",
              "<style scoped>\n",
              "    .dataframe tbody tr th:only-of-type {\n",
              "        vertical-align: middle;\n",
              "    }\n",
              "\n",
              "    .dataframe tbody tr th {\n",
              "        vertical-align: top;\n",
              "    }\n",
              "\n",
              "    .dataframe thead th {\n",
              "        text-align: right;\n",
              "    }\n",
              "</style>\n",
              "<table border=\"1\" class=\"dataframe\">\n",
              "  <thead>\n",
              "    <tr style=\"text-align: right;\">\n",
              "      <th></th>\n",
              "      <th>Revenue sum</th>\n",
              "      <th>Days_Since max</th>\n",
              "      <th>Days_Since min</th>\n",
              "      <th>Days_Since nunique</th>\n",
              "      <th>Avg_Order_Cost</th>\n",
              "    </tr>\n",
              "    <tr>\n",
              "      <th>CustomerID</th>\n",
              "      <th></th>\n",
              "      <th></th>\n",
              "      <th></th>\n",
              "      <th></th>\n",
              "      <th></th>\n",
              "    </tr>\n",
              "  </thead>\n",
              "  <tbody>\n",
              "    <tr>\n",
              "      <th>12347.0</th>\n",
              "      <td>711.79</td>\n",
              "      <td>23</td>\n",
              "      <td>23</td>\n",
              "      <td>1</td>\n",
              "      <td>711.79</td>\n",
              "    </tr>\n",
              "    <tr>\n",
              "      <th>12348.0</th>\n",
              "      <td>892.80</td>\n",
              "      <td>14</td>\n",
              "      <td>14</td>\n",
              "      <td>1</td>\n",
              "      <td>892.80</td>\n",
              "    </tr>\n",
              "    <tr>\n",
              "      <th>12370.0</th>\n",
              "      <td>1868.02</td>\n",
              "      <td>16</td>\n",
              "      <td>13</td>\n",
              "      <td>2</td>\n",
              "      <td>934.01</td>\n",
              "    </tr>\n",
              "    <tr>\n",
              "      <th>12377.0</th>\n",
              "      <td>1001.52</td>\n",
              "      <td>10</td>\n",
              "      <td>10</td>\n",
              "      <td>1</td>\n",
              "      <td>1001.52</td>\n",
              "    </tr>\n",
              "    <tr>\n",
              "      <th>12383.0</th>\n",
              "      <td>600.72</td>\n",
              "      <td>8</td>\n",
              "      <td>8</td>\n",
              "      <td>1</td>\n",
              "      <td>600.72</td>\n",
              "    </tr>\n",
              "  </tbody>\n",
              "</table>\n",
              "</div>"
            ],
            "text/plain": [
              "            Revenue sum  Days_Since max  ...  Days_Since nunique  Avg_Order_Cost\n",
              "CustomerID                               ...                                    \n",
              "12347.0          711.79              23  ...                   1          711.79\n",
              "12348.0          892.80              14  ...                   1          892.80\n",
              "12370.0         1868.02              16  ...                   2          934.01\n",
              "12377.0         1001.52              10  ...                   1         1001.52\n",
              "12383.0          600.72               8  ...                   1          600.72\n",
              "\n",
              "[5 rows x 5 columns]"
            ]
          },
          "metadata": {
            "tags": []
          },
          "execution_count": 244
        }
      ]
    },
    {
      "cell_type": "code",
      "metadata": {
        "id": "pwp1PAcO7D-X"
      },
      "source": [
        "# dependent variable\n",
        "y = df[df['Year'] == 2011].groupby('CustomerID')['Revenue'].sum()"
      ],
      "execution_count": null,
      "outputs": []
    },
    {
      "cell_type": "code",
      "metadata": {
        "colab": {
          "base_uri": "https://localhost:8080/"
        },
        "id": "xNMf3Bju7cbh",
        "outputId": "6c41bbac-1a87-4705-b8d7-8908bbfef388"
      },
      "source": [
        "y.head()"
      ],
      "execution_count": null,
      "outputs": [
        {
          "output_type": "execute_result",
          "data": {
            "text/plain": [
              "CustomerID\n",
              "12347.0    3598.21\n",
              "12348.0     904.44\n",
              "12370.0    1677.67\n",
              "12377.0     626.60\n",
              "12383.0    1249.84\n",
              "Name: 2011 Revenue, dtype: float64"
            ]
          },
          "metadata": {
            "tags": []
          },
          "execution_count": 245
        }
      ]
    },
    {
      "cell_type": "markdown",
      "metadata": {
        "id": "QjTQeBB98g1p"
      },
      "source": [
        "## Put both variables into a single DataFrame and Rename Columns"
      ]
    },
    {
      "cell_type": "code",
      "metadata": {
        "colab": {
          "base_uri": "https://localhost:8080/",
          "height": 233
        },
        "id": "jehAv8VF7q5A",
        "outputId": "a888762b-180e-4edd-84fc-793cfde90d85"
      },
      "source": [
        "wrangled_df = pd.concat([X, y], axis = 1)\n",
        "wrangled_df.columns = ['2010 Revenue', 'Days_since_first_purchase', 'Days_since_last_purchase', 'Number_of_purchases', 'Avg_order_cost', '2011 Revenue']\n",
        "wrangled_df.head()\n",
        "\n",
        "# NaN caused by customers who were active either in only 2010 or only in 2011 "
      ],
      "execution_count": null,
      "outputs": [
        {
          "output_type": "execute_result",
          "data": {
            "text/html": [
              "<div>\n",
              "<style scoped>\n",
              "    .dataframe tbody tr th:only-of-type {\n",
              "        vertical-align: middle;\n",
              "    }\n",
              "\n",
              "    .dataframe tbody tr th {\n",
              "        vertical-align: top;\n",
              "    }\n",
              "\n",
              "    .dataframe thead th {\n",
              "        text-align: right;\n",
              "    }\n",
              "</style>\n",
              "<table border=\"1\" class=\"dataframe\">\n",
              "  <thead>\n",
              "    <tr style=\"text-align: right;\">\n",
              "      <th></th>\n",
              "      <th>2010 Revenue</th>\n",
              "      <th>Days_since_first_purchase</th>\n",
              "      <th>Days_since_last_purchase</th>\n",
              "      <th>Number_of_purchases</th>\n",
              "      <th>Avg_order_cost</th>\n",
              "      <th>2011 Revenue</th>\n",
              "    </tr>\n",
              "    <tr>\n",
              "      <th>CustomerID</th>\n",
              "      <th></th>\n",
              "      <th></th>\n",
              "      <th></th>\n",
              "      <th></th>\n",
              "      <th></th>\n",
              "      <th></th>\n",
              "    </tr>\n",
              "  </thead>\n",
              "  <tbody>\n",
              "    <tr>\n",
              "      <th>12347.0</th>\n",
              "      <td>711.79</td>\n",
              "      <td>23</td>\n",
              "      <td>23</td>\n",
              "      <td>1</td>\n",
              "      <td>711.79</td>\n",
              "      <td>3598.21</td>\n",
              "    </tr>\n",
              "    <tr>\n",
              "      <th>12348.0</th>\n",
              "      <td>892.80</td>\n",
              "      <td>14</td>\n",
              "      <td>14</td>\n",
              "      <td>1</td>\n",
              "      <td>892.80</td>\n",
              "      <td>904.44</td>\n",
              "    </tr>\n",
              "    <tr>\n",
              "      <th>12370.0</th>\n",
              "      <td>1868.02</td>\n",
              "      <td>16</td>\n",
              "      <td>13</td>\n",
              "      <td>2</td>\n",
              "      <td>934.01</td>\n",
              "      <td>1677.67</td>\n",
              "    </tr>\n",
              "    <tr>\n",
              "      <th>12377.0</th>\n",
              "      <td>1001.52</td>\n",
              "      <td>10</td>\n",
              "      <td>10</td>\n",
              "      <td>1</td>\n",
              "      <td>1001.52</td>\n",
              "      <td>626.60</td>\n",
              "    </tr>\n",
              "    <tr>\n",
              "      <th>12383.0</th>\n",
              "      <td>600.72</td>\n",
              "      <td>8</td>\n",
              "      <td>8</td>\n",
              "      <td>1</td>\n",
              "      <td>600.72</td>\n",
              "      <td>1249.84</td>\n",
              "    </tr>\n",
              "  </tbody>\n",
              "</table>\n",
              "</div>"
            ],
            "text/plain": [
              "            2010 Revenue  ...  2011 Revenue\n",
              "CustomerID                ...              \n",
              "12347.0           711.79  ...       3598.21\n",
              "12348.0           892.80  ...        904.44\n",
              "12370.0          1868.02  ...       1677.67\n",
              "12377.0          1001.52  ...        626.60\n",
              "12383.0           600.72  ...       1249.84\n",
              "\n",
              "[5 rows x 6 columns]"
            ]
          },
          "metadata": {
            "tags": []
          },
          "execution_count": 248
        }
      ]
    },
    {
      "cell_type": "markdown",
      "metadata": {
        "id": "fCYKpc159xOw"
      },
      "source": [
        "### Drop all customers not active in both years"
      ]
    },
    {
      "cell_type": "code",
      "metadata": {
        "id": "TBNObudM9C36"
      },
      "source": [
        "wrangled_df = wrangled_df[~wrangled_df['2010 Revenue'].isnull()]\n",
        "wrangled_df = wrangled_df[~wrangled_df['2011 Revenue'].isnull()]"
      ],
      "execution_count": null,
      "outputs": []
    },
    {
      "cell_type": "code",
      "metadata": {
        "colab": {
          "base_uri": "https://localhost:8080/",
          "height": 233
        },
        "id": "HTZNule7-Mio",
        "outputId": "002388e2-9f1e-4e34-e2a9-7b44232c5cd5"
      },
      "source": [
        "wrangled_df.head()"
      ],
      "execution_count": null,
      "outputs": [
        {
          "output_type": "execute_result",
          "data": {
            "text/html": [
              "<div>\n",
              "<style scoped>\n",
              "    .dataframe tbody tr th:only-of-type {\n",
              "        vertical-align: middle;\n",
              "    }\n",
              "\n",
              "    .dataframe tbody tr th {\n",
              "        vertical-align: top;\n",
              "    }\n",
              "\n",
              "    .dataframe thead th {\n",
              "        text-align: right;\n",
              "    }\n",
              "</style>\n",
              "<table border=\"1\" class=\"dataframe\">\n",
              "  <thead>\n",
              "    <tr style=\"text-align: right;\">\n",
              "      <th></th>\n",
              "      <th>2010 Revenue</th>\n",
              "      <th>Days_since_first_purchase</th>\n",
              "      <th>Days_since_last_purchase</th>\n",
              "      <th>Number_of_purchases</th>\n",
              "      <th>Avg_order_cost</th>\n",
              "      <th>2011 Revenue</th>\n",
              "    </tr>\n",
              "    <tr>\n",
              "      <th>CustomerID</th>\n",
              "      <th></th>\n",
              "      <th></th>\n",
              "      <th></th>\n",
              "      <th></th>\n",
              "      <th></th>\n",
              "      <th></th>\n",
              "    </tr>\n",
              "  </thead>\n",
              "  <tbody>\n",
              "    <tr>\n",
              "      <th>12347.0</th>\n",
              "      <td>711.79</td>\n",
              "      <td>23</td>\n",
              "      <td>23</td>\n",
              "      <td>1</td>\n",
              "      <td>711.79</td>\n",
              "      <td>3598.21</td>\n",
              "    </tr>\n",
              "    <tr>\n",
              "      <th>12348.0</th>\n",
              "      <td>892.80</td>\n",
              "      <td>14</td>\n",
              "      <td>14</td>\n",
              "      <td>1</td>\n",
              "      <td>892.80</td>\n",
              "      <td>904.44</td>\n",
              "    </tr>\n",
              "    <tr>\n",
              "      <th>12370.0</th>\n",
              "      <td>1868.02</td>\n",
              "      <td>16</td>\n",
              "      <td>13</td>\n",
              "      <td>2</td>\n",
              "      <td>934.01</td>\n",
              "      <td>1677.67</td>\n",
              "    </tr>\n",
              "    <tr>\n",
              "      <th>12377.0</th>\n",
              "      <td>1001.52</td>\n",
              "      <td>10</td>\n",
              "      <td>10</td>\n",
              "      <td>1</td>\n",
              "      <td>1001.52</td>\n",
              "      <td>626.60</td>\n",
              "    </tr>\n",
              "    <tr>\n",
              "      <th>12383.0</th>\n",
              "      <td>600.72</td>\n",
              "      <td>8</td>\n",
              "      <td>8</td>\n",
              "      <td>1</td>\n",
              "      <td>600.72</td>\n",
              "      <td>1249.84</td>\n",
              "    </tr>\n",
              "  </tbody>\n",
              "</table>\n",
              "</div>"
            ],
            "text/plain": [
              "            2010 Revenue  ...  2011 Revenue\n",
              "CustomerID                ...              \n",
              "12347.0           711.79  ...       3598.21\n",
              "12348.0           892.80  ...        904.44\n",
              "12370.0          1868.02  ...       1677.67\n",
              "12377.0          1001.52  ...        626.60\n",
              "12383.0           600.72  ...       1249.84\n",
              "\n",
              "[5 rows x 6 columns]"
            ]
          },
          "metadata": {
            "tags": []
          },
          "execution_count": 250
        }
      ]
    },
    {
      "cell_type": "markdown",
      "metadata": {
        "id": "AW2xHq-wKGZZ"
      },
      "source": [
        "### Drop outliers"
      ]
    },
    {
      "cell_type": "code",
      "metadata": {
        "id": "z2T1sgUg-RVp"
      },
      "source": [
        "# Outliers: any data point more than 3 std above the median\n",
        "wrangled_df = wrangled_df[wrangled_df['2010 Revenue'] < (wrangled_df['2010 Revenue'].median() + wrangled_df['2010 Revenue'].std()*3)]\n",
        "wrangled_df = wrangled_df[wrangled_df['2011 Revenue'] < (wrangled_df['2011 Revenue'].median() + wrangled_df['2011 Revenue'].std()*3)]"
      ],
      "execution_count": null,
      "outputs": []
    },
    {
      "cell_type": "markdown",
      "metadata": {
        "id": "6lH_m5Z9Lfzs"
      },
      "source": [
        "# Save data after cleaning and feature engineering into a new file"
      ]
    },
    {
      "cell_type": "code",
      "metadata": {
        "colab": {
          "base_uri": "https://localhost:8080/",
          "height": 233
        },
        "id": "muVLa9r4KwCF",
        "outputId": "4ff9c0c9-a55b-46e6-8395-f5b2eab2a181"
      },
      "source": [
        "wrangled_df.to_csv('wrangled_transactions.csv')\n",
        "wrangled_df.head()"
      ],
      "execution_count": null,
      "outputs": [
        {
          "output_type": "execute_result",
          "data": {
            "text/html": [
              "<div>\n",
              "<style scoped>\n",
              "    .dataframe tbody tr th:only-of-type {\n",
              "        vertical-align: middle;\n",
              "    }\n",
              "\n",
              "    .dataframe tbody tr th {\n",
              "        vertical-align: top;\n",
              "    }\n",
              "\n",
              "    .dataframe thead th {\n",
              "        text-align: right;\n",
              "    }\n",
              "</style>\n",
              "<table border=\"1\" class=\"dataframe\">\n",
              "  <thead>\n",
              "    <tr style=\"text-align: right;\">\n",
              "      <th></th>\n",
              "      <th>2010 Revenue</th>\n",
              "      <th>Days_since_first_purchase</th>\n",
              "      <th>Days_since_last_purchase</th>\n",
              "      <th>Number_of_purchases</th>\n",
              "      <th>Avg_order_cost</th>\n",
              "      <th>2011 Revenue</th>\n",
              "    </tr>\n",
              "    <tr>\n",
              "      <th>CustomerID</th>\n",
              "      <th></th>\n",
              "      <th></th>\n",
              "      <th></th>\n",
              "      <th></th>\n",
              "      <th></th>\n",
              "      <th></th>\n",
              "    </tr>\n",
              "  </thead>\n",
              "  <tbody>\n",
              "    <tr>\n",
              "      <th>12347.0</th>\n",
              "      <td>711.79</td>\n",
              "      <td>23</td>\n",
              "      <td>23</td>\n",
              "      <td>1</td>\n",
              "      <td>711.79</td>\n",
              "      <td>3598.21</td>\n",
              "    </tr>\n",
              "    <tr>\n",
              "      <th>12348.0</th>\n",
              "      <td>892.80</td>\n",
              "      <td>14</td>\n",
              "      <td>14</td>\n",
              "      <td>1</td>\n",
              "      <td>892.80</td>\n",
              "      <td>904.44</td>\n",
              "    </tr>\n",
              "    <tr>\n",
              "      <th>12370.0</th>\n",
              "      <td>1868.02</td>\n",
              "      <td>16</td>\n",
              "      <td>13</td>\n",
              "      <td>2</td>\n",
              "      <td>934.01</td>\n",
              "      <td>1677.67</td>\n",
              "    </tr>\n",
              "    <tr>\n",
              "      <th>12377.0</th>\n",
              "      <td>1001.52</td>\n",
              "      <td>10</td>\n",
              "      <td>10</td>\n",
              "      <td>1</td>\n",
              "      <td>1001.52</td>\n",
              "      <td>626.60</td>\n",
              "    </tr>\n",
              "    <tr>\n",
              "      <th>12383.0</th>\n",
              "      <td>600.72</td>\n",
              "      <td>8</td>\n",
              "      <td>8</td>\n",
              "      <td>1</td>\n",
              "      <td>600.72</td>\n",
              "      <td>1249.84</td>\n",
              "    </tr>\n",
              "  </tbody>\n",
              "</table>\n",
              "</div>"
            ],
            "text/plain": [
              "            2010 Revenue  ...  2011 Revenue\n",
              "CustomerID                ...              \n",
              "12347.0           711.79  ...       3598.21\n",
              "12348.0           892.80  ...        904.44\n",
              "12370.0          1868.02  ...       1677.67\n",
              "12377.0          1001.52  ...        626.60\n",
              "12383.0           600.72  ...       1249.84\n",
              "\n",
              "[5 rows x 6 columns]"
            ]
          },
          "metadata": {
            "tags": []
          },
          "execution_count": 251
        }
      ]
    },
    {
      "cell_type": "markdown",
      "metadata": {
        "id": "V0-4twNsM_gC"
      },
      "source": [
        "# Examine Relationship among variables\n"
      ]
    },
    {
      "cell_type": "markdown",
      "metadata": {
        "id": "Hxy8t5f1QFVL"
      },
      "source": [
        "## Method 1: sns.pairplot()"
      ]
    },
    {
      "cell_type": "code",
      "metadata": {
        "id": "znkvc5yCLuHi"
      },
      "source": [
        "df = pd.read_csv('wrangled_transactions.csv', index_col = 'CustomerID')"
      ],
      "execution_count": null,
      "outputs": []
    },
    {
      "cell_type": "code",
      "metadata": {
        "colab": {
          "base_uri": "https://localhost:8080/",
          "height": 1000
        },
        "id": "rB6mFoYPNTnN",
        "outputId": "08940553-7a32-49dd-b47e-df1ca38c87fa"
      },
      "source": [
        "import seaborn as sns\n",
        "%matplotlib inline\n",
        "sns.pairplot(df)\n",
        "\n",
        "# show a histgram for each variable\n",
        "# scatterplot shows relationship betw. one variable and each other variable\n",
        "# Last row: 2011 Revenue against each of independent variable"
      ],
      "execution_count": null,
      "outputs": [
        {
          "output_type": "execute_result",
          "data": {
            "text/plain": [
              "<seaborn.axisgrid.PairGrid at 0x7f0f1b022e10>"
            ]
          },
          "metadata": {
            "tags": []
          },
          "execution_count": 253
        },
        {
          "output_type": "display_data",
          "data": {
            "image/png": "[encoded data removed]",
            "text/plain": [
              "<Figure size 1080x1080 with 42 Axes>"
            ]
          },
          "metadata": {
            "tags": [],
            "needs_background": "light"
          }
        }
      ]
    },
    {
      "cell_type": "markdown",
      "metadata": {
        "id": "5EbnUEPeP_U5"
      },
      "source": [
        "## Method 2: sns.heatmap()"
      ]
    },
    {
      "cell_type": "code",
      "metadata": {
        "colab": {
          "base_uri": "https://localhost:8080/",
          "height": 675
        },
        "id": "EVvZtNG2NZ1O",
        "outputId": "e8b28205-2797-4ec7-87fe-6b28ed5441eb"
      },
      "source": [
        "plt.figure(figsize = (12, 9))\n",
        "s = sns.heatmap(df.corr(), annot = True, cmap = 'RdBu', vmin = -1, vmax = 1)\n",
        "plt.title('Correlation Heatmap')\n",
        "plt.show()"
      ],
      "execution_count": null,
      "outputs": [
        {
          "output_type": "display_data",
          "data": {
            "image/png": "[encoded data removed]",
            "text/plain": [
              "<Figure size 864x648 with 2 Axes>"
            ]
          },
          "metadata": {
            "tags": [],
            "needs_background": "light"
          }
        }
      ]
    },
    {
      "cell_type": "markdown",
      "metadata": {
        "id": "-gj2HA4xZSaD"
      },
      "source": [
        "# Apply Linear Regression Model"
      ]
    },
    {
      "cell_type": "markdown",
      "metadata": {
        "id": "7D8ZymFHZ1qB"
      },
      "source": [
        "## Identify X and y"
      ]
    },
    {
      "cell_type": "code",
      "metadata": {
        "id": "AlODhYFMaT-s"
      },
      "source": [
        "# Since 'Days_since_first_purchase' has a weak relationship with '2011 Revenue', drop this feature\n",
        "\n",
        "X = df[['2010 Revenue', 'Days_since_last_purchase', 'Number_of_purchases', 'Avg_order_cost']]"
      ],
      "execution_count": null,
      "outputs": []
    },
    {
      "cell_type": "code",
      "metadata": {
        "id": "sVcaRZSraxHh"
      },
      "source": [
        "y = df['2011 Revenue']"
      ],
      "execution_count": null,
      "outputs": []
    },
    {
      "cell_type": "markdown",
      "metadata": {
        "id": "1Dy70p8rbbxw"
      },
      "source": [
        "## Splitting the dataset into the Training set and Test set"
      ]
    },
    {
      "cell_type": "code",
      "metadata": {
        "id": "mV_VDPOLa9h6"
      },
      "source": [
        "from sklearn.model_selection import train_test_split\n",
        "X_train, X_test, y_train, y_test = train_test_split(X, y, test_size = 0.2, random_state = 100)"
      ],
      "execution_count": null,
      "outputs": []
    },
    {
      "cell_type": "code",
      "metadata": {
        "colab": {
          "base_uri": "https://localhost:8080/"
        },
        "id": "0iBYAZ9sc6Sj",
        "outputId": "dd4b169a-8be4-489d-b848-a281fe78dbd8"
      },
      "source": [
        "type(X_test)"
      ],
      "execution_count": null,
      "outputs": [
        {
          "output_type": "execute_result",
          "data": {
            "text/plain": [
              "pandas.core.frame.DataFrame"
            ]
          },
          "metadata": {
            "tags": []
          },
          "execution_count": 258
        }
      ]
    },
    {
      "cell_type": "code",
      "metadata": {
        "colab": {
          "base_uri": "https://localhost:8080/"
        },
        "id": "34ofYpeKdGM7",
        "outputId": "643e981e-e9ce-447d-ef27-8073f47020b6"
      },
      "source": [
        "type(y_test)"
      ],
      "execution_count": null,
      "outputs": [
        {
          "output_type": "execute_result",
          "data": {
            "text/plain": [
              "pandas.core.series.Series"
            ]
          },
          "metadata": {
            "tags": []
          },
          "execution_count": 259
        }
      ]
    },
    {
      "cell_type": "markdown",
      "metadata": {
        "id": "kXFnLhXBb3GZ"
      },
      "source": [
        "## Training the Simple Linear Regression model on the Training set"
      ]
    },
    {
      "cell_type": "code",
      "metadata": {
        "colab": {
          "base_uri": "https://localhost:8080/"
        },
        "id": "u-BLKWKtblIg",
        "outputId": "25301ef4-3ac4-4280-d005-d473cd17ddf7"
      },
      "source": [
        "from sklearn.linear_model import LinearRegression\n",
        "model = LinearRegression()\n",
        "model.fit(X_train, y_train)"
      ],
      "execution_count": null,
      "outputs": [
        {
          "output_type": "execute_result",
          "data": {
            "text/plain": [
              "LinearRegression(copy_X=True, fit_intercept=True, n_jobs=None, normalize=False)"
            ]
          },
          "metadata": {
            "tags": []
          },
          "execution_count": 260
        }
      ]
    },
    {
      "cell_type": "markdown",
      "metadata": {
        "id": "reMdtlfvcThP"
      },
      "source": [
        "## Check model coefficient"
      ]
    },
    {
      "cell_type": "code",
      "metadata": {
        "colab": {
          "base_uri": "https://localhost:8080/"
        },
        "id": "QfnLEv5AcEt8",
        "outputId": "a0fd485f-e820-496e-9342-5e54615f4410"
      },
      "source": [
        "model.coef_\n",
        "\n",
        "# in the order of columns in X"
      ],
      "execution_count": null,
      "outputs": [
        {
          "output_type": "execute_result",
          "data": {
            "text/plain": [
              "array([  5.43967256,   9.81048088, 328.56812319,  -2.27099117])"
            ]
          },
          "metadata": {
            "tags": []
          },
          "execution_count": 261
        }
      ]
    },
    {
      "cell_type": "markdown",
      "metadata": {
        "id": "P0P03D_ecnjW"
      },
      "source": [
        "## Check model intercept"
      ]
    },
    {
      "cell_type": "code",
      "metadata": {
        "colab": {
          "base_uri": "https://localhost:8080/"
        },
        "id": "Vy9qmjRicYQ7",
        "outputId": "b5bc679e-7689-4d1d-ae37-8e3a124ca6bc"
      },
      "source": [
        "model.intercept_"
      ],
      "execution_count": null,
      "outputs": [
        {
          "output_type": "execute_result",
          "data": {
            "text/plain": [
              "338.942428194945"
            ]
          },
          "metadata": {
            "tags": []
          },
          "execution_count": 262
        }
      ]
    },
    {
      "cell_type": "markdown",
      "metadata": {
        "id": "n9hq5VaAejSD"
      },
      "source": [
        "## Predict the Test set result"
      ]
    },
    {
      "cell_type": "code",
      "metadata": {
        "id": "uYaBy0Xcdrrp"
      },
      "source": [
        "y_pred = model.predict(X_test)"
      ],
      "execution_count": null,
      "outputs": []
    },
    {
      "cell_type": "markdown",
      "metadata": {
        "id": "WDmWnIlJk9EH"
      },
      "source": [
        "## Visualization betw. y_pred(predicted values) and y_test(true value)"
      ]
    },
    {
      "cell_type": "code",
      "metadata": {
        "colab": {
          "base_uri": "https://localhost:8080/",
          "height": 295
        },
        "id": "9e30tajDeugP",
        "outputId": "b1b55cc9-c524-4a63-839f-ffe5c3f5cc16"
      },
      "source": [
        "plt.scatter(y_pred, y_test)\n",
        "plt.plot([0, 10000], [0,10000], 'k-', color = 'm')   # Reference line, means predictions = true value\n",
        "plt.xlim(0, 10000)\n",
        "plt.ylim(0, 10000)\n",
        "plt.xlabel('Model Predictions')\n",
        "plt.ylabel('True Values')\n",
        "plt.title('Comparison betw. Predictions and True Value')\n",
        "plt.show()\n",
        "\n",
        "# Since many of our points are quite far fm the reference line, indicates the model is not completely accurate"
      ],
      "execution_count": null,
      "outputs": [
        {
          "output_type": "display_data",
          "data": {
            "image/png": "[encoded data removed]",
            "text/plain": [
              "<Figure size 432x288 with 1 Axes>"
            ]
          },
          "metadata": {
            "tags": [],
            "needs_background": "light"
          }
        }
      ]
    },
    {
      "cell_type": "markdown",
      "metadata": {
        "id": "c9K4od_zmZYo"
      },
      "source": [
        "## Further examine the relationship betw. predictions and true values by 'pearsonr'"
      ]
    },
    {
      "cell_type": "code",
      "metadata": {
        "colab": {
          "base_uri": "https://localhost:8080/"
        },
        "id": "NViyadNXlwKi",
        "outputId": "15053cf7-162c-4928-89f0-31addf68a53a"
      },
      "source": [
        "from scipy.stats.stats import pearsonr\n",
        "pearsonr(y_pred, y_test)\n",
        "\n",
        "# 1st number indicating relationship\n",
        "# 2nd number is P-value indicating the probability that u will see a relationship this strong "
      ],
      "execution_count": null,
      "outputs": [
        {
          "output_type": "execute_result",
          "data": {
            "text/plain": [
              "(0.3941018631119753, 6.04357070028145e-07)"
            ]
          },
          "metadata": {
            "tags": []
          },
          "execution_count": 264
        }
      ]
    },
    {
      "cell_type": "markdown",
      "metadata": {
        "id": "xOTveXaL2_6l"
      },
      "source": [
        "# Evaluate the Model by Metrics"
      ]
    },
    {
      "cell_type": "markdown",
      "metadata": {
        "id": "_OJVJ1gO6FW3"
      },
      "source": [
        "## Calculating RMSE and MAE "
      ]
    },
    {
      "cell_type": "markdown",
      "metadata": {
        "id": "2im-rqKX8Lsd"
      },
      "source": [
        "### Method 1: by formula"
      ]
    },
    {
      "cell_type": "code",
      "metadata": {
        "id": "e4dbEIn7nL34"
      },
      "source": [
        "error = y_pred - y_test"
      ],
      "execution_count": null,
      "outputs": []
    },
    {
      "cell_type": "code",
      "metadata": {
        "id": "Ekx5QywC3HoO"
      },
      "source": [
        "rmse = (error**2).mean()**.5\n",
        "mae = abs(error).mean()"
      ],
      "execution_count": null,
      "outputs": []
    },
    {
      "cell_type": "code",
      "metadata": {
        "colab": {
          "base_uri": "https://localhost:8080/"
        },
        "id": "jHsYXVDI4rl-",
        "outputId": "5f931104-7696-4891-9aae-35351518a367"
      },
      "source": [
        "rmse"
      ],
      "execution_count": null,
      "outputs": [
        {
          "output_type": "execute_result",
          "data": {
            "text/plain": [
              "4288.432748257349"
            ]
          },
          "metadata": {
            "tags": []
          },
          "execution_count": 267
        }
      ]
    },
    {
      "cell_type": "code",
      "metadata": {
        "colab": {
          "base_uri": "https://localhost:8080/"
        },
        "id": "IFLr2CXc47Kn",
        "outputId": "dde03839-c589-4538-be7d-bd1b19420791"
      },
      "source": [
        "mae"
      ],
      "execution_count": null,
      "outputs": [
        {
          "output_type": "execute_result",
          "data": {
            "text/plain": [
              "2367.7055949195696"
            ]
          },
          "metadata": {
            "tags": []
          },
          "execution_count": 268
        }
      ]
    },
    {
      "cell_type": "markdown",
      "metadata": {
        "id": "6cqliBhC6rev"
      },
      "source": [
        "### Method 2: by functions"
      ]
    },
    {
      "cell_type": "code",
      "metadata": {
        "colab": {
          "base_uri": "https://localhost:8080/"
        },
        "id": "gvs_MFtd48ur",
        "outputId": "7f4f8aec-bc7f-4296-cd49-cf772b2cab62"
      },
      "source": [
        "from sklearn.metrics import mean_squared_error\n",
        "mse = mean_squared_error(y_test, y_pred)\n",
        "mse"
      ],
      "execution_count": null,
      "outputs": [
        {
          "output_type": "execute_result",
          "data": {
            "text/plain": [
              "18390655.436326083"
            ]
          },
          "metadata": {
            "tags": []
          },
          "execution_count": 269
        }
      ]
    },
    {
      "cell_type": "code",
      "metadata": {
        "colab": {
          "base_uri": "https://localhost:8080/"
        },
        "id": "zE7taPuW5Ew9",
        "outputId": "52149c70-e5be-4b8c-c524-2ce87f030711"
      },
      "source": [
        "import math\n",
        "rmse = math.sqrt(mse)\n",
        "print('rmse: ' + str(rmse))"
      ],
      "execution_count": null,
      "outputs": [
        {
          "output_type": "stream",
          "text": [
            "rmse: 4288.432748257349\n"
          ],
          "name": "stdout"
        }
      ]
    },
    {
      "cell_type": "code",
      "metadata": {
        "colab": {
          "base_uri": "https://localhost:8080/"
        },
        "id": "G4-HEMJh5vkC",
        "outputId": "9bb2976c-daed-42f1-bb56-ad6656dca062"
      },
      "source": [
        "from sklearn.metrics import mean_absolute_error\n",
        "mae =  mean_absolute_error(y_test, y_pred)\n",
        "print('mae: ' + str(mae))"
      ],
      "execution_count": null,
      "outputs": [
        {
          "output_type": "stream",
          "text": [
            "mae: 2367.7055949195706\n"
          ],
          "name": "stdout"
        }
      ]
    },
    {
      "cell_type": "markdown",
      "metadata": {
        "id": "5DqMV2Uc8WcY"
      },
      "source": [
        "## Revise the Model by dropping feature \"Days_since_last_purchase\""
      ]
    },
    {
      "cell_type": "code",
      "metadata": {
        "id": "fzD5dCC46CDd"
      },
      "source": [
        "X_train2 = X_train.drop('Days_since_last_purchase', axis = 1)\n",
        "X_test2 = X_test.drop('Days_since_last_purchase', axis = 1)\n",
        "model.fit(X_train2, y_train)\n",
        "y_pred2 = model.predict(X_test2)"
      ],
      "execution_count": null,
      "outputs": []
    },
    {
      "cell_type": "code",
      "metadata": {
        "colab": {
          "base_uri": "https://localhost:8080/"
        },
        "id": "KjV5_ChG8-ra",
        "outputId": "faec6ce7-7773-45fc-b432-c537abc9ac89"
      },
      "source": [
        "mse2= mean_squared_error(y_test, y_pred2)\n",
        "rmse2 = math.sqrt(mse2)\n",
        "print('rmse2: ' + str(rmse2))"
      ],
      "execution_count": null,
      "outputs": [
        {
          "output_type": "stream",
          "text": [
            "rmse2: 4288.313750790882\n"
          ],
          "name": "stdout"
        }
      ]
    },
    {
      "cell_type": "code",
      "metadata": {
        "colab": {
          "base_uri": "https://localhost:8080/"
        },
        "id": "DnBFBlFx9myE",
        "outputId": "2c751db4-8697-4dc3-b8fe-437381350387"
      },
      "source": [
        "mae2 = mean_absolute_error(y_test, y_pred2)\n",
        "print('mae2: ' + str(mae2))\n",
        "                          "
      ],
      "execution_count": null,
      "outputs": [
        {
          "output_type": "stream",
          "text": [
            "mae2: 2367.7972018228033\n"
          ],
          "name": "stdout"
        }
      ]
    },
    {
      "cell_type": "markdown",
      "metadata": {
        "id": "EWzIytCs-yJ8"
      },
      "source": [
        "### Result: Both rmse2 and mae 2 are bigger than previous result, so dropping \"Days_since_last_purchase\" increase erros in the model on test set; in other words, the model was more accurate when it contained the dropped column "
      ]
    },
    {
      "cell_type": "markdown",
      "metadata": {
        "id": "M2PgfMC-_fX9"
      },
      "source": [
        "### Insight: We can see how rmse and mae can be used to determine which feature is important to have in a model, and those who have little impact on performance can be dropped."
      ]
    },
    {
      "cell_type": "markdown",
      "metadata": {
        "id": "u4K4hVyjBmk0"
      },
      "source": [
        "# Evaluate the Model by Regularization (Lasso Model) - Feature Selection"
      ]
    },
    {
      "cell_type": "code",
      "metadata": {
        "colab": {
          "base_uri": "https://localhost:8080/"
        },
        "id": "jxBV3Czc-CAf",
        "outputId": "0837594f-2c71-4a71-9646-5b7d6ebb9253"
      },
      "source": [
        "from sklearn.linear_model import Lasso\n",
        "lasso_model = Lasso(normalize = True, random_state = 10)\n",
        "lasso_model.fit(X_train, y_train)"
      ],
      "execution_count": null,
      "outputs": [
        {
          "output_type": "execute_result",
          "data": {
            "text/plain": [
              "Lasso(alpha=1.0, copy_X=True, fit_intercept=True, max_iter=1000, normalize=True,\n",
              "      positive=False, precompute=False, random_state=10, selection='cyclic',\n",
              "      tol=0.0001, warm_start=False)"
            ]
          },
          "metadata": {
            "tags": []
          },
          "execution_count": 276
        }
      ]
    },
    {
      "cell_type": "code",
      "metadata": {
        "colab": {
          "base_uri": "https://localhost:8080/"
        },
        "id": "98OlHFlhB4U7",
        "outputId": "c44a3509-1192-4fd8-ee3d-5807e778e2cc"
      },
      "source": [
        "lasso_model.coef_"
      ],
      "execution_count": null,
      "outputs": [
        {
          "output_type": "execute_result",
          "data": {
            "text/plain": [
              "array([  4.97959646,   2.48242858, 432.7218487 ,  -1.62464622])"
            ]
          },
          "metadata": {
            "tags": []
          },
          "execution_count": 277
        }
      ]
    },
    {
      "cell_type": "markdown",
      "metadata": {
        "id": "fAa94oQIC0vF"
      },
      "source": [
        "## Result: Lasso Model still uses all the variables used in previous model, that means all features have predictive power, no need to drop any one."
      ]
    },
    {
      "cell_type": "code",
      "metadata": {
        "id": "TiZcNbrLB9kY"
      },
      "source": [
        ""
      ],
      "execution_count": null,
      "outputs": []
    }
  ]
}